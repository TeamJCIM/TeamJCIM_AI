{
 "cells": [
  {
   "cell_type": "code",
   "execution_count": 1,
   "id": "d670a7cb",
   "metadata": {},
   "outputs": [
    {
     "name": "stderr",
     "output_type": "stream",
     "text": [
      "C:\\Users\\soyun\\anaconda3\\lib\\site-packages\\sklearn\\preprocessing\\_label.py:235: DataConversionWarning: A column-vector y was passed when a 1d array was expected. Please change the shape of y to (n_samples, ), for example using ravel().\n",
      "  y = column_or_1d(y, warn=True)\n",
      "C:\\Users\\soyun\\anaconda3\\lib\\site-packages\\sklearn\\preprocessing\\_label.py:268: DataConversionWarning: A column-vector y was passed when a 1d array was expected. Please change the shape of y to (n_samples, ), for example using ravel().\n",
      "  y = column_or_1d(y, warn=True)\n",
      "C:\\Users\\soyun\\anaconda3\\lib\\site-packages\\seaborn\\distributions.py:2557: FutureWarning: `distplot` is a deprecated function and will be removed in a future version. Please adapt your code to use either `displot` (a figure-level function with similar flexibility) or `kdeplot` (an axes-level function for kernel density plots).\n",
      "  warnings.warn(msg, FutureWarning)\n",
      "C:\\Users\\soyun\\anaconda3\\lib\\site-packages\\seaborn\\distributions.py:2557: FutureWarning: `distplot` is a deprecated function and will be removed in a future version. Please adapt your code to use either `displot` (a figure-level function with similar flexibility) or `kdeplot` (an axes-level function for kernel density plots).\n",
      "  warnings.warn(msg, FutureWarning)\n"
     ]
    },
    {
     "name": "stdout",
     "output_type": "stream",
     "text": [
      "훈련 세트 정확도: 0.947\n",
      "테스트 세트 정확도: 0.918\n"
     ]
    },
    {
     "data": {
      "image/png": "[encoded data removed]",
      "text/plain": [
       "<Figure size 432x288 with 1 Axes>"
      ]
     },
     "metadata": {
      "needs_background": "light"
     },
     "output_type": "display_data"
    }
   ],
   "source": [
    "import numpy as np\n",
    "import pandas as pd\n",
    "from sklearn.ensemble import RandomForestRegressor\n",
    "from sklearn.ensemble import RandomForestClassifier\n",
    "from sklearn.model_selection import train_test_split\n",
    "import matplotlib.pyplot as plt\n",
    "import seaborn as sns\n",
    "from IPython.display import Image\n",
    "from sklearn.preprocessing import StandardScaler\n",
    "from sklearn.preprocessing import LabelEncoder\n",
    "\n",
    "data = pd.read_csv('data.csv', encoding = 'cp949')\n",
    "\n",
    "input_num = pd.DataFrame(data, columns = ['평균기온(℃)', '평균풍속(m/s)', '평균습도(%rh)', '평균일강수량(mm)', '일사합', \n",
    "                                               '평균전력사용량', '코스피', '미세먼지', '최저기온(℃)','최고기온(℃)', \n",
    "                                               '평균 현지기압(hPa)','평균지면온도(℃)', '합계 소형증발량(mm)'])\n",
    "input_day = pd.DataFrame(data, columns = ['요일'])\n",
    "input_holi = pd.DataFrame(data, columns = ['공휴일/국경일'])\n",
    "input_wek = pd.DataFrame(data, columns = ['평일/주말'])\n",
    "y = pd.DataFrame(data, columns = ['전력'])\n",
    "\n",
    "# StandardScaler 객체 생성\n",
    "scaler = StandardScaler()\n",
    "\n",
    "# 데이터 세트 변환\n",
    "scaler.fit(input_num)\n",
    "input_num = scaler.transform(input_num)\n",
    "\n",
    "# ndarray -> dataframe\n",
    "input_num = pd.DataFrame(input_num, columns = ['평균기온(℃)', '평균풍속(m/s)', '평균습도(%rh)', '평균일강수량(mm)', '일사합', \n",
    "                                               '평균전력사용량', '코스피', '미세먼지', '최저기온(℃)','최고기온(℃)', \n",
    "                                               '평균 현지기압(hPa)','평균지면온도(℃)', '합계 소형증발량(mm)'])\n",
    "\n",
    "# 요일 변환\n",
    "encoder= LabelEncoder()\n",
    "encoder.fit(input_day)\n",
    "input_day= encoder.transform(input_day)\n",
    "input_day = pd.DataFrame(input_day, columns = ['요일'])\n",
    "\n",
    "input_num['일시'] = data['일시']\n",
    "input_day['일시'] = data['일시']\n",
    "input_holi['일시'] = data['일시']\n",
    "input_wek['일시'] = data['일시']\n",
    "input_num = input_num.set_index('일시')\n",
    "input_day = input_day.set_index('일시')\n",
    "input_holi = input_holi.set_index('일시')\n",
    "input_wek = input_wek.set_index('일시')\n",
    "y['일시'] = data['일시']\n",
    "y = y.set_index('일시')\n",
    "y = np.ravel(y, order='C')\n",
    "\n",
    "x = input_num.join(input_day)\n",
    "x = x.join(input_holi)\n",
    "x = x.join(input_wek)\n",
    "\n",
    "x_train, x_test, y_train, y_test = train_test_split(x, y, test_size = 0.2, random_state = 5)\n",
    "\n",
    "for i in range(50,300,10):\n",
    "    #model = RandomForestRegressor(n_estimators = 400, random_state = 0, max_features = 2, max_depth = 100)\n",
    "    model = RandomForestRegressor(n_estimators = 400, max_depth = 100,\n",
    "                           min_samples_split =6, min_samples_leaf =8,\n",
    "                           n_jobs=-1, random_state=2, oob_score=True)\n",
    "    model.fit(x_train, y_train)\n",
    "    \n",
    "y_test_prediction = model.predict(x_test)\n",
    "\n",
    "ax1 = sns.distplot(y_test, hist = False , label = \"y_real\")\n",
    "ax2 = sns.distplot(y_test_prediction, hist = False, label = \"y_predict\", ax = ax1)\n",
    "\n",
    "print(\"훈련 세트 정확도: {:.3f}\".format(model.score(x_train, y_train)) )\n",
    "print(\"테스트 세트 정확도: {:.3f}\".format(model.score(x_test, y_test)) )"
   ]
  }
 ],
 "metadata": {
  "kernelspec": {
   "display_name": "Python 3",
   "language": "python",
   "name": "python3"
  },
  "language_info": {
   "codemirror_mode": {
    "name": "ipython",
    "version": 3
   },
   "file_extension": ".py",
   "mimetype": "text/x-python",
   "name": "python",
   "nbconvert_exporter": "python",
   "pygments_lexer": "ipython3",
   "version": "3.8.8"
  }
 },
 "nbformat": 4,
 "nbformat_minor": 5
}
